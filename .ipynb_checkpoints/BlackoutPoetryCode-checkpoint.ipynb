{
 "cells": [
  {
   "cell_type": "code",
   "execution_count": null,
   "id": "10f898d9",
   "metadata": {},
   "outputs": [],
   "source": [
    "\"\"\"\n",
    "Kora S. Hughes\n",
    "Blackout Poetry Project\n",
    "\n",
    "The purpose of this project is to create poetry with a posative message out of hateful things\n",
    "\n",
    "The origin of this idea stemmed from making poetry out of JK Rowling's transphobic tweets\n",
    "But as I continue to add to the software I'm sure it will evolve\n",
    "\"\"\""
   ]
  },
  {
   "cell_type": "code",
   "execution_count": null,
   "id": "369830bb",
   "metadata": {},
   "outputs": [],
   "source": [
    "def main():\n",
    "    print(\"Start\")"
   ]
  },
  {
   "cell_type": "code",
   "execution_count": null,
   "id": "759270fc",
   "metadata": {},
   "outputs": [],
   "source": []
  },
  {
   "cell_type": "code",
   "execution_count": null,
   "id": "75ba2b62",
   "metadata": {},
   "outputs": [],
   "source": [
    "if __name__ == \"__main__\":\n",
    "    main()"
   ]
  }
 ],
 "metadata": {
  "kernelspec": {
   "display_name": "Python 3 (ipykernel)",
   "language": "python",
   "name": "python3"
  },
  "language_info": {
   "codemirror_mode": {
    "name": "ipython",
    "version": 3
   },
   "file_extension": ".py",
   "mimetype": "text/x-python",
   "name": "python",
   "nbconvert_exporter": "python",
   "pygments_lexer": "ipython3",
   "version": "3.10.4"
  }
 },
 "nbformat": 4,
 "nbformat_minor": 5
}
