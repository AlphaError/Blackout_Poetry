{
 "cells": [
  {
   "cell_type": "code",
   "execution_count": null,
   "id": "10f898d9",
   "metadata": {},
   "outputs": [],
   "source": [
    "\"\"\"\n",
    "Kora S. Hughes\n",
    "Blackout Poetry Project\n",
    "\n",
    "The purpose of this project is to create poetry with a posative message out of hateful things\n",
    "\n",
    "The origin of this idea stemmed from making poetry out of JK Rowling's transphobic tweets\n",
    "But as I continue to add to the software I'm sure it will evolve\n",
    "\n",
    "In the future using this for more minorities in more contexts with larger pieces of data would be great\n",
    "\"\"\""
   ]
  },
  {
   "cell_type": "code",
   "execution_count": null,
   "id": "f7faca58",
   "metadata": {},
   "outputs": [],
   "source": [
    "# Test Data -> dict collections with link:text structure\n",
    "jk_trans_tweets = {\n",
    "    \"https://twitter.com/jk_rowling/status/1269382518362509313?ref_src=twsrc%5Etfw%7Ctwcamp%5Etweetembed%7Ctwterm%5E1269382518362509313%7Ctwgr%5E%7Ctwcon%5Es1_&ref_url=https%3A%2F%2Fwww.glamour.com%2Fstory%2Fa-complete-breakdown-of-the-jk-rowling-transgender-comments-controversy\":\"‘People who menstruate.’ I’m sure there used to be a word for those people. Someone help me out. Wumben? Wimpund? Woomud? Opinion: Creating a more equal post-COVID-19 world for people who menstruate\",\n",
    "    \"https://twitter.com/jk_rowling/status/1269389298664701952?ref_src=twsrc%5Etfw%7Ctwcamp%5Etweetembed%7Ctwterm%5E1269389298664701952%7Ctwgr%5E%7Ctwcon%5Es1_&ref_url=https%3A%2F%2Fwww.glamour.com%2Fstory%2Fa-complete-breakdown-of-the-jk-rowling-transgender-comments-controversy\":\"If sex isn’t real, there’s no same-sex attraction. If sex isn’t real, the lived reality of women globally is erased. I know and love trans people, but erasing the concept of sex removes the ability of many to meaningfully discuss their lives. It isn’t hate to speak the truth.\",\n",
    "    \"https://twitter.com/jk_rowling/status/1269389298664701952?ref_src=twsrc%5Etfw%7Ctwcamp%5Etweetembed%7Ctwterm%5E1269406094595588096%7Ctwgr%5E%7Ctwcon%5Es2_&ref_url=https%3A%2F%2Fwww.glamour.com%2Fstory%2Fa-complete-breakdown-of-the-jk-rowling-transgender-comments-controversy\":\"The idea that women like me, who’ve been empathetic to trans people for decades, feeling kinship because they’re vulnerable in the same way as women - ie, to male violence - ‘hate’ trans people because they think sex is real and has lived consequences - is a nonsense.\",\n",
    "    \"https://twitter.com/jk_rowling/status/1269407862234775552?ref_src=twsrc%5Etfw%7Ctwcamp%5Etweetembed%7Ctwterm%5E1269407862234775552%7Ctwgr%5E%7Ctwcon%5Es1_&ref_url=https%3A%2F%2Fwww.glamour.com%2Fstory%2Fa-complete-breakdown-of-the-jk-rowling-transgender-comments-controversy\":\"I respect every trans person’s right to live any way that feels authentic and comfortable to them. I’d march with you if you were discriminated against on the basis of being trans. At the same time, my life has been shaped by being female. I do not believe it’s hateful to say so.\",\n",
    "    \n",
    "} # primary src: https://www.glamour.com/story/a-complete-breakdown-of-the-jk-rowling-transgender-comments-controversy\n",
    "# secondary src: https://twitter.com/jk_rowling?ref_src=twsrc%5Egoogle%7Ctwcamp%5Eserp%7Ctwgr%5Eauthor"
   ]
  },
  {
   "cell_type": "code",
   "execution_count": null,
   "id": "369830bb",
   "metadata": {},
   "outputs": [],
   "source": [
    "def main():\n",
    "    print(\"Start\")"
   ]
  },
  {
   "cell_type": "code",
   "execution_count": null,
   "id": "759270fc",
   "metadata": {},
   "outputs": [],
   "source": []
  },
  {
   "cell_type": "code",
   "execution_count": null,
   "id": "75ba2b62",
   "metadata": {},
   "outputs": [],
   "source": [
    "if __name__ == \"__main__\":\n",
    "    main()"
   ]
  }
 ],
 "metadata": {
  "kernelspec": {
   "display_name": "Python 3 (ipykernel)",
   "language": "python",
   "name": "python3"
  },
  "language_info": {
   "codemirror_mode": {
    "name": "ipython",
    "version": 3
   },
   "file_extension": ".py",
   "mimetype": "text/x-python",
   "name": "python",
   "nbconvert_exporter": "python",
   "pygments_lexer": "ipython3",
   "version": "3.10.4"
  }
 },
 "nbformat": 4,
 "nbformat_minor": 5
}
